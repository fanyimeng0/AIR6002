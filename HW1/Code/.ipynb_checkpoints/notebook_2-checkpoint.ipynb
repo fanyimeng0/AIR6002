{
 "cells": [
  {
   "cell_type": "markdown",
   "metadata": {},
   "source": [
    "# Problem 2 for AIR6002"
   ]
  },
  {
   "cell_type": "markdown",
   "metadata": {},
   "source": [
    "Use this notebook to write your code for problem 2b."
   ]
  },
  {
   "cell_type": "code",
   "execution_count": 1,
   "metadata": {
    "collapsed": true
   },
   "outputs": [],
   "source": [
    "import numpy as np\n",
    "import matplotlib.pyplot as plt\n",
    "from sklearn.metrics import mean_squared_error\n",
    "from sklearn.model_selection import KFold\n",
    "\n",
    "import warnings\n",
    "warnings.filterwarnings(\"ignore\")"
   ]
  },
  {
   "cell_type": "code",
   "execution_count": 2,
   "metadata": {
    "collapsed": true
   },
   "outputs": [],
   "source": [
    "def load_data(filename):\n",
    "    \"\"\"\n",
    "    Function loads data stored in the file filename and returns it as an numpy ndarray.\n",
    "    \"\"\"\n",
    "    return np.loadtxt(filename, skiprows=1, delimiter=',')"
   ]
  },
  {
   "cell_type": "markdown",
   "metadata": {},
   "source": [
    "## Loading the Data\n",
    "First we will load the data from bv_data.csv using the load_data helper function. Note that data[:, 0] is an array of all the x values in the data and data[:, 1] is an array of the corresponding y values."
   ]
  },
  {
   "cell_type": "code",
   "execution_count": 3,
   "metadata": {
    "collapsed": true
   },
   "outputs": [],
   "source": [
    "data = load_data('data/bv_data.csv')\n",
    "x = data[:, 0]\n",
    "y = data[:, 1]"
   ]
  },
  {
   "cell_type": "markdown",
   "metadata": {},
   "source": [
    "## Creating and Training the Model\n",
    "We now write a general polynomial regressor class that uses np.polyfit and np.polyval to train and generate predictions. This class can be used to create linear, quadratic, and cubic regressors as required by the problem."
   ]
  },
  {
   "cell_type": "code",
   "execution_count": 4,
   "metadata": {
    "collapsed": true
   },
   "outputs": [],
   "source": [
    "class polynomial_regressor():\n",
    "    def __init__(self, degree):\n",
    "        self.degree = degree\n",
    "        self.coefficients = None\n",
    "\n",
    "    def fit(self, X, y):\n",
    "        self.coefficients = np.polyfit(X, y, self.degree)\n",
    "    \n",
    "    def predict(self, X):\n",
    "        if self.coefficients.any():\n",
    "            return np.polyval(self.coefficients, X)\n",
    "        else:\n",
    "            print(\"Use the fit function before predicting.\")\n",
    "    \n",
    "    def score(self, y_true, prediction):\n",
    "        return mean_squared_error(y_true, prediction)"
   ]
  },
  {
   "cell_type": "markdown",
   "metadata": {},
   "source": [
    "## Generating the Learning Curves\n",
    "\n",
    "The following two functions are used to generate the data required for a learning curve and to actually plot the curve itself. Note that learning_curve is a helper function used in plot_learning_curve."
   ]
  },
  {
   "cell_type": "code",
   "execution_count": 5,
   "metadata": {
    "collapsed": true
   },
   "outputs": [],
   "source": [
    "def learning_curve(estimator, X, y, cv, train_sizes):\n",
    "    train_error = []\n",
    "    cv_error = []\n",
    "    for num_points in train_sizes:\n",
    "        subset_x = X[:num_points]\n",
    "        subset_y = y[:num_points]\n",
    "        \n",
    "        cv_train_error = []\n",
    "        cv_test_error = []\n",
    "        for train, test in cv.split(subset_x):\n",
    "            train_x, test_x, train_y, test_y = subset_x[train], subset_x[test], subset_y[train], subset_y[test]\n",
    "            \n",
    "            estimator.fit(train_x, train_y)\n",
    "            cv_train_error.append(estimator.score(train_y, estimator.predict(train_x)))\n",
    "            cv_test_error.append(estimator.score(test_y, estimator.predict(test_x)))\n",
    "        \n",
    "        train_error.append(cv_train_error)\n",
    "        cv_error.append(cv_test_error)\n",
    "    \n",
    "    return train_sizes, train_error, cv_error"
   ]
  },
  {
   "cell_type": "code",
   "execution_count": 6,
   "metadata": {
    "collapsed": true
   },
   "outputs": [],
   "source": [
    "def plot_learning_curve(estimator, title, X, y, train_sizes, ylim=None, cv=None):\n",
    "    \"\"\"\n",
    "    Plots the learning curve for the model. This function is taken predominantly from\n",
    "    an sklearn example.\n",
    "    \"\"\"\n",
    "    plt.figure(figsize=(12,5))\n",
    "    plt.title(title)\n",
    "    if ylim is not None:\n",
    "        plt.ylim(*ylim)\n",
    "    plt.xlabel(\"Training examples\")\n",
    "    plt.ylabel(\"Mean Squared Error\")\n",
    "    train_sizes, train_scores, cv_scores = learning_curve(estimator, X, y, train_sizes=train_sizes, cv=cv)\n",
    "\n",
    "    train_scores_mean = np.mean(train_scores, axis=1)\n",
    "    train_scores_std = np.std(train_scores, axis=1)\n",
    "    cv_scores_mean = np.mean(cv_scores, axis=1)\n",
    "    cv_scores_std = np.std(cv_scores, axis=1)\n",
    "    \n",
    "    plt.grid()\n",
    "    plt.plot(train_sizes, train_scores_mean, 'o-', color=\"r\", label=\"Training Error\")\n",
    "    plt.plot(train_sizes, cv_scores_mean, 'o-', color=\"g\", label=\"Cross-Validation Error\")\n",
    "\n",
    "    plt.legend(loc=\"best\")\n",
    "    return plt"
   ]
  },
  {
   "cell_type": "markdown",
   "metadata": {},
   "source": [
    "## Main Code\n",
    "Here is the code that actually uses the above functions and classes to generate the three learning curves."
   ]
  },
  {
   "cell_type": "code",
   "execution_count": null,
   "metadata": {},
   "outputs": [],
   "source": []
  }
 ],
 "metadata": {
  "anaconda-cloud": {},
  "kernelspec": {
   "display_name": "Python 3 (ipykernel)",
   "language": "python",
   "name": "python3"
  },
  "language_info": {
   "codemirror_mode": {
    "name": "ipython",
    "version": 3
   },
   "file_extension": ".py",
   "mimetype": "text/x-python",
   "name": "python",
   "nbconvert_exporter": "python",
   "pygments_lexer": "ipython3",
   "version": "3.11.3"
  }
 },
 "nbformat": 4,
 "nbformat_minor": 1
}
